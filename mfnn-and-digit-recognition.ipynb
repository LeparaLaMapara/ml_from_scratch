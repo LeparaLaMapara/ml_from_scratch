{
 "cells": [
  {
   "cell_type": "markdown",
   "metadata": {},
   "source": [
    "# Logistic Regression and Multi-layer Feed-forward Neural Network for Digit Recognition\n",
    "\n",
    "This practical session is designed to implement Logistic Regression (LR) and Multi-layer Feed-forward Neural Network (MFNN) for handwritten digit recognition. [The MNIST database of handwritten digits](http://yann.lecun.com/exdb/mnist/) is used for training and testing LR and MFNN. \n",
    "\n",
    "## Dataset\n",
    "The [MNIST](http://yann.lecun.com/exdb/mnist/) dataset consists of handwritten grayscale digit images. All handwritten digit images have been size-normalized and centered in a fixed size image of 28 x 28 pixels. A grayscale image is nothing but a 2D array of integers between 0 and 255. In the original dataset each pixel of the image is represented by a value between 0 and 255, where 0 is black, 255 is white and anything in between is a different shade of grey. Below is some examples of [MNIST](http://yann.lecun.com/exdb/mnist/) handwritten digits:\n",
    "\n",
    "![MNIST](./images/mnist-samples.png)\n",
    "\n",
    "\n",
    "## References\n",
    "[1] http://yann.lecun.com/exdb/mnist/\n",
    "\n",
    "[2] https://pjreddie.com/projects/mnist-in-csv/"
   ]
  },
  {
   "cell_type": "markdown",
   "metadata": {},
   "source": [
    "## Dataset Loading and Visualisation\n",
    "The following function loads train and test handwritten digit image samples from [MNIST](http://yann.lecun.com/exdb/mnist/) dataset."
   ]
  },
  {
   "cell_type": "code",
   "execution_count": 4,
   "metadata": {},
   "outputs": [],
   "source": [
    "%matplotlib inline\n",
    "import matplotlib.pyplot as pl\n",
    "\n",
    "import numpy as np"
   ]
  },
  {
   "cell_type": "code",
   "execution_count": 5,
   "metadata": {},
   "outputs": [],
   "source": [
    "def load_dataset(train_dataset='mnist_train.csv', test_dataset='mnist_test.csv'):\n",
    "    \"\"\"\n",
    "    Loads and returns train and test datasets.\n",
    "    \"\"\"\n",
    "    data_train = np.genfromtxt(fname=train_dataset, delimiter=',')\n",
    "    y_train = data_train[:,0]\n",
    "    x_train = data_train[:,1:]\n",
    "    data_test = np.genfromtxt(fname=test_dataset, delimiter=',')\n",
    "    y_test = data_test[:,0]\n",
    "    x_test = data_test[:,1:]\n",
    "    return (x_train, y_train, x_test, y_test)"
   ]
  },
  {
   "cell_type": "markdown",
   "metadata": {},
   "source": [
    "The following script calls function `load_dataset()` to train and test datasets. _Be patient as it may take some time to load datasets!_"
   ]
  },
  {
   "cell_type": "code",
   "execution_count": 6,
   "metadata": {},
   "outputs": [
    {
     "ename": "IOError",
     "evalue": "mnist_train.csv not found.",
     "output_type": "error",
     "traceback": [
      "\u001b[0;31m---------------------------------------------------------------------------\u001b[0m",
      "\u001b[0;31mIOError\u001b[0m                                   Traceback (most recent call last)",
      "\u001b[0;32m<ipython-input-6-181aa814c982>\u001b[0m in \u001b[0;36m<module>\u001b[0;34m()\u001b[0m\n\u001b[0;32m----> 1\u001b[0;31m \u001b[0mx_train\u001b[0m\u001b[0;34m,\u001b[0m \u001b[0my_train\u001b[0m\u001b[0;34m,\u001b[0m \u001b[0mx_test\u001b[0m\u001b[0;34m,\u001b[0m \u001b[0my_test\u001b[0m \u001b[0;34m=\u001b[0m \u001b[0mload_dataset\u001b[0m\u001b[0;34m(\u001b[0m\u001b[0;34m)\u001b[0m\u001b[0;34m\u001b[0m\u001b[0m\n\u001b[0m",
      "\u001b[0;32m<ipython-input-5-06ffe1e7c3e2>\u001b[0m in \u001b[0;36mload_dataset\u001b[0;34m(train_dataset, test_dataset)\u001b[0m\n\u001b[1;32m      3\u001b[0m     \u001b[0mLoads\u001b[0m \u001b[0;32mand\u001b[0m \u001b[0mreturns\u001b[0m \u001b[0mtrain\u001b[0m \u001b[0;32mand\u001b[0m \u001b[0mtest\u001b[0m \u001b[0mdatasets\u001b[0m\u001b[0;34m.\u001b[0m\u001b[0;34m\u001b[0m\u001b[0m\n\u001b[1;32m      4\u001b[0m     \"\"\"\n\u001b[0;32m----> 5\u001b[0;31m     \u001b[0mdata_train\u001b[0m \u001b[0;34m=\u001b[0m \u001b[0mnp\u001b[0m\u001b[0;34m.\u001b[0m\u001b[0mgenfromtxt\u001b[0m\u001b[0;34m(\u001b[0m\u001b[0mfname\u001b[0m\u001b[0;34m=\u001b[0m\u001b[0mtrain_dataset\u001b[0m\u001b[0;34m,\u001b[0m \u001b[0mdelimiter\u001b[0m\u001b[0;34m=\u001b[0m\u001b[0;34m','\u001b[0m\u001b[0;34m)\u001b[0m\u001b[0;34m\u001b[0m\u001b[0m\n\u001b[0m\u001b[1;32m      6\u001b[0m     \u001b[0my_train\u001b[0m \u001b[0;34m=\u001b[0m \u001b[0mdata_train\u001b[0m\u001b[0;34m[\u001b[0m\u001b[0;34m:\u001b[0m\u001b[0;34m,\u001b[0m\u001b[0;36m0\u001b[0m\u001b[0;34m]\u001b[0m\u001b[0;34m\u001b[0m\u001b[0m\n\u001b[1;32m      7\u001b[0m     \u001b[0mx_train\u001b[0m \u001b[0;34m=\u001b[0m \u001b[0mdata_train\u001b[0m\u001b[0;34m[\u001b[0m\u001b[0;34m:\u001b[0m\u001b[0;34m,\u001b[0m\u001b[0;36m1\u001b[0m\u001b[0;34m:\u001b[0m\u001b[0;34m]\u001b[0m\u001b[0;34m\u001b[0m\u001b[0m\n",
      "\u001b[0;32m/home/lukhetho/anaconda2/lib/python2.7/site-packages/numpy/lib/npyio.pyc\u001b[0m in \u001b[0;36mgenfromtxt\u001b[0;34m(fname, dtype, comments, delimiter, skip_header, skip_footer, converters, missing_values, filling_values, usecols, names, excludelist, deletechars, replace_space, autostrip, case_sensitive, defaultfmt, unpack, usemask, loose, invalid_raise, max_rows, encoding)\u001b[0m\n\u001b[1;32m   1698\u001b[0m             \u001b[0mfname\u001b[0m \u001b[0;34m=\u001b[0m \u001b[0mstr\u001b[0m\u001b[0;34m(\u001b[0m\u001b[0mfname\u001b[0m\u001b[0;34m)\u001b[0m\u001b[0;34m\u001b[0m\u001b[0m\n\u001b[1;32m   1699\u001b[0m         \u001b[0;32mif\u001b[0m \u001b[0misinstance\u001b[0m\u001b[0;34m(\u001b[0m\u001b[0mfname\u001b[0m\u001b[0;34m,\u001b[0m \u001b[0mbasestring\u001b[0m\u001b[0;34m)\u001b[0m\u001b[0;34m:\u001b[0m\u001b[0;34m\u001b[0m\u001b[0m\n\u001b[0;32m-> 1700\u001b[0;31m             \u001b[0mfhd\u001b[0m \u001b[0;34m=\u001b[0m \u001b[0miter\u001b[0m\u001b[0;34m(\u001b[0m\u001b[0mnp\u001b[0m\u001b[0;34m.\u001b[0m\u001b[0mlib\u001b[0m\u001b[0;34m.\u001b[0m\u001b[0m_datasource\u001b[0m\u001b[0;34m.\u001b[0m\u001b[0mopen\u001b[0m\u001b[0;34m(\u001b[0m\u001b[0mfname\u001b[0m\u001b[0;34m,\u001b[0m \u001b[0;34m'rt'\u001b[0m\u001b[0;34m,\u001b[0m \u001b[0mencoding\u001b[0m\u001b[0;34m=\u001b[0m\u001b[0mencoding\u001b[0m\u001b[0;34m)\u001b[0m\u001b[0;34m)\u001b[0m\u001b[0;34m\u001b[0m\u001b[0m\n\u001b[0m\u001b[1;32m   1701\u001b[0m             \u001b[0mown_fhd\u001b[0m \u001b[0;34m=\u001b[0m \u001b[0mTrue\u001b[0m\u001b[0;34m\u001b[0m\u001b[0m\n\u001b[1;32m   1702\u001b[0m         \u001b[0;32melse\u001b[0m\u001b[0;34m:\u001b[0m\u001b[0;34m\u001b[0m\u001b[0m\n",
      "\u001b[0;32m/home/lukhetho/anaconda2/lib/python2.7/site-packages/numpy/lib/_datasource.pyc\u001b[0m in \u001b[0;36mopen\u001b[0;34m(path, mode, destpath, encoding, newline)\u001b[0m\n\u001b[1;32m    260\u001b[0m \u001b[0;34m\u001b[0m\u001b[0m\n\u001b[1;32m    261\u001b[0m     \u001b[0mds\u001b[0m \u001b[0;34m=\u001b[0m \u001b[0mDataSource\u001b[0m\u001b[0;34m(\u001b[0m\u001b[0mdestpath\u001b[0m\u001b[0;34m)\u001b[0m\u001b[0;34m\u001b[0m\u001b[0m\n\u001b[0;32m--> 262\u001b[0;31m     \u001b[0;32mreturn\u001b[0m \u001b[0mds\u001b[0m\u001b[0;34m.\u001b[0m\u001b[0mopen\u001b[0m\u001b[0;34m(\u001b[0m\u001b[0mpath\u001b[0m\u001b[0;34m,\u001b[0m \u001b[0mmode\u001b[0m\u001b[0;34m,\u001b[0m \u001b[0mencoding\u001b[0m\u001b[0;34m=\u001b[0m\u001b[0mencoding\u001b[0m\u001b[0;34m,\u001b[0m \u001b[0mnewline\u001b[0m\u001b[0;34m=\u001b[0m\u001b[0mnewline\u001b[0m\u001b[0;34m)\u001b[0m\u001b[0;34m\u001b[0m\u001b[0m\n\u001b[0m\u001b[1;32m    263\u001b[0m \u001b[0;34m\u001b[0m\u001b[0m\n\u001b[1;32m    264\u001b[0m \u001b[0;34m\u001b[0m\u001b[0m\n",
      "\u001b[0;32m/home/lukhetho/anaconda2/lib/python2.7/site-packages/numpy/lib/_datasource.pyc\u001b[0m in \u001b[0;36mopen\u001b[0;34m(self, path, mode, encoding, newline)\u001b[0m\n\u001b[1;32m    616\u001b[0m                                       encoding=encoding, newline=newline)\n\u001b[1;32m    617\u001b[0m         \u001b[0;32melse\u001b[0m\u001b[0;34m:\u001b[0m\u001b[0;34m\u001b[0m\u001b[0m\n\u001b[0;32m--> 618\u001b[0;31m             \u001b[0;32mraise\u001b[0m \u001b[0mIOError\u001b[0m\u001b[0;34m(\u001b[0m\u001b[0;34m\"%s not found.\"\u001b[0m \u001b[0;34m%\u001b[0m \u001b[0mpath\u001b[0m\u001b[0;34m)\u001b[0m\u001b[0;34m\u001b[0m\u001b[0m\n\u001b[0m\u001b[1;32m    619\u001b[0m \u001b[0;34m\u001b[0m\u001b[0m\n\u001b[1;32m    620\u001b[0m \u001b[0;34m\u001b[0m\u001b[0m\n",
      "\u001b[0;31mIOError\u001b[0m: mnist_train.csv not found."
     ]
    }
   ],
   "source": [
    "x_train, y_train, x_test, y_test = load_dataset()"
   ]
  },
  {
   "cell_type": "code",
   "execution_count": 5,
   "metadata": {},
   "outputs": [
    {
     "data": {
      "text/plain": [
       "(60000, 784)"
      ]
     },
     "execution_count": 5,
     "metadata": {},
     "output_type": "execute_result"
    }
   ],
   "source": [
    "x_train.shape"
   ]
  },
  {
   "cell_type": "markdown",
   "metadata": {},
   "source": [
    "Each row of `x_train` and `x_test` variables is a 1D vector comprised of 784 (28 * 28) integers and refers to an unpacked handwritten digit image. The following function takes a 1D vector array as input and returns the corresponding 2D representation as image."
   ]
  },
  {
   "cell_type": "code",
   "execution_count": 4,
   "metadata": {},
   "outputs": [],
   "source": [
    "def vector2image(image_vector, image_height=28, image_width=28):\n",
    "    \"\"\"\n",
    "    Returns image representation of the input 1D vector.\n",
    "    \"\"\"\n",
    "    image = np.reshape(image_vector, (image_height, image_width))\n",
    "    return image"
   ]
  },
  {
   "cell_type": "markdown",
   "metadata": {},
   "source": [
    "Now you can use `vector2image()` function to convert a 1D feature vector to 2D image for visualisation purposes, e.g.:"
   ]
  },
  {
   "cell_type": "code",
   "execution_count": 5,
   "metadata": {},
   "outputs": [
    {
     "data": {
      "image/png": "[encoded data removed]",
      "text/plain": [
       "<matplotlib.figure.Figure at 0x7f532fc5a650>"
      ]
     },
     "metadata": {},
     "output_type": "display_data"
    }
   ],
   "source": [
    "index = 3\n",
    "image = vector2image(x_train[index])\n",
    "pl.figure()\n",
    "pl.imshow(image, cmap='gray')\n",
    "pl.title('x_train[' + str(index) + '], ' + 'y_train[' + str(index) + '] = ' + str(int(y_train[index])))\n",
    "pl.show()"
   ]
  },
  {
   "cell_type": "markdown",
   "metadata": {},
   "source": [
    "You may also need the following function to convert a 2D grayscale image to 1D vector representation."
   ]
  },
  {
   "cell_type": "code",
   "execution_count": 6,
   "metadata": {},
   "outputs": [],
   "source": [
    "def image2vector(image):\n",
    "    \"\"\"\n",
    "    Returns vector representation of the input 2D image.\n",
    "    \"\"\"\n",
    "    image_height, image_width = image.shape\n",
    "    image_vector = np.reshape(image, image_height*image_width)\n",
    "    return image_vector"
   ]
  },
  {
   "cell_type": "markdown",
   "metadata": {},
   "source": [
    "Thus, `vector2image(image2vector(vector2image(x_train[index])))` must produce exactly same output with that of `vector2image(x_train[index])`, i.e.:"
   ]
  },
  {
   "cell_type": "code",
   "execution_count": 7,
   "metadata": {},
   "outputs": [
    {
     "data": {
      "image/png": "[encoded data removed]",
      "text/plain": [
       "<matplotlib.figure.Figure at 0x7f532fc5a310>"
      ]
     },
     "metadata": {},
     "output_type": "display_data"
    }
   ],
   "source": [
    "    image = vector2image(image2vector(vector2image(x_train[index])))\n",
    "    pl.figure()\n",
    "    pl.imshow(image, cmap='gray')\n",
    "    pl.title('x_train[' + str(index) + '], ' + 'y_train[' + str(index) + '] = ' + str(int(y_train[index])))\n",
    "    pl.show()"
   ]
  },
  {
   "cell_type": "markdown",
   "metadata": {},
   "source": [
    "Now, let's produce an image that is similar to what you see on the very first markdown cell by selecting samples from `x_train` and `y_train`!"
   ]
  },
  {
   "cell_type": "code",
   "execution_count": 8,
   "metadata": {},
   "outputs": [
    {
     "data": {
      "image/png": "[encoded data removed]",
      "text/plain": [
       "<matplotlib.figure.Figure at 0x7f534c40da50>"
      ]
     },
     "metadata": {},
     "output_type": "display_data"
    }
   ],
   "source": [
    "C = 10 # number of digits\n",
    "R = 16 # images per row\n",
    "for c in np.arange(C):\n",
    "    for r in np.arange(R):\n",
    "        image = vector2image(x_train[y_train==c][r])\n",
    "        if r == 0:\n",
    "            image_digits_row = image\n",
    "        else:\n",
    "            image_digits_row = np.hstack((image_digits_row, image))\n",
    "    if c == 0:\n",
    "        image_digits = image_digits_row\n",
    "    else:\n",
    "        image_digits = np.vstack((image_digits, image_digits_row))\n",
    "pl.figure()\n",
    "pl.imshow(image_digits, cmap='gray')\n",
    "# save a copy of this image as png file under ./images folder\n",
    "pl.imsave('./images/mnist-samples.png', image_digits, cmap='gray') "
   ]
  },
  {
   "cell_type": "markdown",
   "metadata": {},
   "source": [
    "We are ready to implement LR classifier for digit recognition.\n",
    "\n",
    "## Logistic Regression"
   ]
  },
  {
   "cell_type": "code",
   "execution_count": 29,
   "metadata": {},
   "outputs": [],
   "source": [
    "class LR:\n",
    "    def __init__(self, W):\n",
    "        self.W = W\n",
    "        self.delta = 0.000001\n",
    "        self.epoch_max = 100000\n",
    "        \n",
    "    def parameters(self):\n",
    "        return self.W\n",
    "                \n",
    "    def activation(self, s):\n",
    "        return 1.0 / (1 + np.exp(-s)) # sigmoid function as activation function\n",
    "    \n",
    "    def activation_prime(self, s):\n",
    "        return (self.activation(s) * (1.0 - self.activation(s))) # the derivative of activation function\n",
    "    \n",
    "    def feedforward(self, X):\n",
    "        S = np.dot(X, self.W)\n",
    "        U = self.activation(S)\n",
    "        return (U)        \n",
    "        \n",
    "    def learn(self, X, Y, learning_rate):        \n",
    "        C =  len(np.unique(Y))\n",
    "        N = X.shape[0]\n",
    "        Yv = np.zeros((N, C))\n",
    "        Yv[np.arange(N), Y.astype(np.int)] = 1.0\n",
    "        is_converged = False\n",
    "        epoch = 1\n",
    "        while not is_converged:\n",
    "            U = self.feedforward(X)\n",
    "      \n",
    "            E = (U - Yv)\n",
    "    \n",
    "            D = U * (1-U) * E\n",
    "            print(np.mean(D))\n",
    "            print(X.shape)\n",
    "            MSE = 1.0 / (2 * N) * np.sum(np.sum(E**2, axis=1))\n",
    "            if (epoch%100) == 0:\n",
    "                ACC = self.accuracy(X, Y)\n",
    "                print('epoch = {0}, MSE = {1:.3f}, ACC = {2:.3f}'.format(epoch, MSE, ACC))\n",
    "            Wprev = self.W.copy()\n",
    "            self.W = self.W - learning_rate * (1.0/N )* np.dot(X.T, D)\n",
    "            epoch += 1\n",
    "            print( (np.max(np.abs(Wprev - self.W))))\n",
    "            if (np.max(np.abs(Wprev - self.W)) <= self.delta) or (epoch >=self.epoch_max):\n",
    "                is_converged = True        \n",
    "        \n",
    "    def classify(self, X):\n",
    "        U = self.feedforward(X)\n",
    "        L = np.argmax(U, axis=1)\n",
    "        return L\n",
    "    \n",
    "    def accuracy(self, X, Y):\n",
    "        N = X.shape[0]\n",
    "        L = self.classify(X)\n",
    "        acc = np.sum(L == Y) / N\n",
    "\n",
    "        return acc\n",
    "    \n",
    "    def confusion_matrix(self, X, Y):\n",
    "        L = self.accuracy(X, Y)\n",
    "        labels = np.unique(Y).astype(int)\n",
    "        conf_mat = np.zeros((len(labels), len(labels)))\n",
    "    \n",
    "        for i in np.arange(len(labels)):\n",
    "            for j in np.arange(len(labels)):\n",
    "                #print(L)\n",
    "                #print(Y==labels[j])\n",
    "                conf_mat[i, j] = np.sum((L==labels[i]) and (Y==labels[j]))\n",
    "            \n",
    "    \n",
    "        "
   ]
  },
  {
   "cell_type": "markdown",
   "metadata": {},
   "source": [
    "### Train Logistic Regression"
   ]
  },
  {
   "cell_type": "code",
   "execution_count": 30,
   "metadata": {
    "scrolled": true
   },
   "outputs": [
    {
     "name": "stdout",
     "output_type": "stream",
     "text": [
      "0.018469302403356272\n",
      "(60000, 785)\n",
      "0.03489064009953802\n",
      "0.017796360625813405\n",
      "(60000, 785)\n",
      "0.032790023354145714\n",
      "0.01701708806586914\n",
      "(60000, 785)\n",
      "0.02933359078295228\n",
      "0.016374605055426143\n",
      "(60000, 785)\n",
      "0.027200945707488988\n",
      "0.01588303611449703\n",
      "(60000, 785)\n",
      "0.03017764143597068\n",
      "0.015308646645962196\n",
      "(60000, 785)\n",
      "0.03270862769931382\n",
      "0.01438194325626776\n",
      "(60000, 785)\n",
      "0.034182822694123094\n",
      "0.013130849555161547\n",
      "(60000, 785)\n",
      "0.032942708418340905\n",
      "0.011758989213258264\n",
      "(60000, 785)\n",
      "0.028893370309470146\n",
      "0.01041654516360978\n",
      "(60000, 785)\n",
      "0.023703705092530947\n",
      "0.009218621059081259\n",
      "(60000, 785)\n",
      "0.022112752625663645\n",
      "0.008226386290215939\n",
      "(60000, 785)\n",
      "0.02043203893584561\n",
      "0.007362093048340321\n",
      "(60000, 785)\n",
      "0.01848139581461139\n",
      "0.0066160138984899045\n",
      "(60000, 785)\n",
      "0.016389059348971224\n",
      "0.0059833581642678765\n",
      "(60000, 785)\n",
      "0.014639021376393724\n",
      "0.005439442917044483\n",
      "(60000, 785)\n",
      "0.013423044616044141\n",
      "0.004974567051397508\n",
      "(60000, 785)\n",
      "0.012289422842377296\n",
      "0.004578482362574982\n",
      "(60000, 785)\n",
      "0.011268456418602198\n",
      "0.004235884120042742\n",
      "(60000, 785)\n",
      "0.01036154458938457\n",
      "0.003933895059713521\n",
      "(60000, 785)\n",
      "0.009548156474918926\n",
      "0.0036658169979933595\n",
      "(60000, 785)\n",
      "0.008821557830485424\n",
      "0.003428472182914821\n",
      "(60000, 785)\n",
      "0.008180593129950647\n",
      "0.00321837136093385\n",
      "(60000, 785)\n",
      "0.007614846288900828\n",
      "0.0030318784359294176\n",
      "(60000, 785)\n",
      "0.007116685674151663\n",
      "0.002865760388482607\n",
      "(60000, 785)\n",
      "0.006682158828205817\n",
      "0.0027170929906958317\n",
      "(60000, 785)\n",
      "0.006305190589349113\n",
      "0.002583194892047159\n",
      "(60000, 785)\n",
      "0.005976527499285983\n",
      "0.0024617612604891427\n",
      "(60000, 785)\n",
      "0.00568690372700463\n",
      "0.0023509499943532366\n",
      "(60000, 785)\n",
      "0.005429390406184578\n",
      "0.0022493245636826683\n",
      "(60000, 785)\n",
      "0.005210170216659232\n",
      "0.0021557413971581762\n",
      "(60000, 785)\n",
      "0.005017545493785636\n",
      "0.0020692600047590506\n",
      "(60000, 785)\n",
      "0.004843038273763034\n",
      "0.0019890904451562857\n",
      "(60000, 785)\n",
      "0.004684157929973537\n",
      "0.0019145644444080612\n",
      "(60000, 785)\n",
      "0.004538629846290609\n",
      "0.0018451158307287241\n",
      "(60000, 785)\n",
      "0.0044045274037953774\n",
      "0.00178026310003644\n",
      "(60000, 785)\n",
      "0.004280314903748306\n",
      "0.001719592729020792\n",
      "(60000, 785)\n",
      "0.004164807419049565\n",
      "0.001662744268309546\n",
      "(60000, 785)\n",
      "0.00405708999258983\n",
      "0.001609398301462436\n",
      "(60000, 785)\n",
      "0.003956434290786182\n",
      "0.0015592675714085646\n",
      "(60000, 785)\n",
      "0.0038622326779379768\n",
      "0.001512090886049294\n",
      "(60000, 785)\n",
      "0.003773954046932454\n",
      "0.0014676291035165124\n",
      "(60000, 785)\n",
      "0.0036911175920923966\n",
      "0.0014256624956626334\n",
      "(60000, 785)\n",
      "0.0036132785746389173\n",
      "0.0013859889370386133\n",
      "(60000, 785)\n",
      "0.0035400209965573692\n",
      "0.0013484225473410223\n",
      "(60000, 785)\n",
      "0.0034709538195404344\n",
      "0.0013127925700454123\n",
      "(60000, 785)\n",
      "0.0034057089358240644\n",
      "0.0012789423796794389\n",
      "(60000, 785)\n",
      "0.003343940173273663\n",
      "0.0012467285750455\n",
      "(60000, 785)\n",
      "0.0032853231567586683\n",
      "0.0012160201449320884\n",
      "(60000, 785)\n",
      "0.0032295559668131246\n",
      "0.0011866976993982162\n",
      "(60000, 785)\n",
      "0.0031763604253412514\n",
      "0.0011586527559239435\n",
      "(60000, 785)\n",
      "0.0031254836811118736\n",
      "0.0011317870644337142\n",
      "(60000, 785)\n",
      "0.003076699682842604\n",
      "0.0011060119529173545\n",
      "(60000, 785)\n",
      "0.003029810150879275\n",
      "0.0010812476771295\n",
      "(60000, 785)\n",
      "0.0029846447669811815\n",
      "0.001057422762736468\n",
      "(60000, 785)\n",
      "0.0029410604493465\n",
      "0.0010344733347498426\n",
      "(60000, 785)\n",
      "0.002898939724585714\n",
      "0.0010123424356758318\n",
      "(60000, 785)\n",
      "0.002858881793891918\n",
      "0.000990979339418745\n",
      "(60000, 785)\n",
      "0.002821639914161969\n",
      "0.000970338871914697\n",
      "(60000, 785)\n",
      "0.002785437731633672\n",
      "0.0009503807514359803\n",
      "(60000, 785)\n",
      "0.002750243974510902\n",
      "0.0009310689615425688\n",
      "(60000, 785)\n",
      "0.002716038558281647\n",
      "0.0009123711680902261\n",
      "(60000, 785)\n",
      "0.0026828091181944347\n",
      "0.0008942581890361773\n",
      "(60000, 785)\n",
      "0.00265054801005489\n",
      "0.000876703522570335\n",
      "(60000, 785)\n",
      "0.0026192498508620238\n",
      "0.0008596829358458133\n",
      "(60000, 785)\n",
      "0.0025889096153654673\n",
      "0.0008431741136641734\n",
      "(60000, 785)\n",
      "0.0025595212609133416\n",
      "0.0008271563641150848\n",
      "(60000, 785)\n",
      "0.002531076822602729\n",
      "0.0008116103764648311\n",
      "(60000, 785)\n",
      "0.002503565903329702\n",
      "0.0007965180255183814\n",
      "(60000, 785)\n",
      "0.002476975477014004\n",
      "0.0007818622161669507\n",
      "(60000, 785)\n",
      "0.0024512899254260645\n",
      "0.000767626761769599\n",
      "(60000, 785)\n",
      "0.0024264912368910374\n",
      "0.0007537962902903569\n",
      "(60000, 785)\n",
      "0.002402559306166216\n",
      "0.0007403561726168484\n",
      "(60000, 785)\n",
      "0.0023794722869669577\n",
      "0.0007272924681318965\n",
      "(60000, 785)\n",
      "0.002357206960505523\n",
      "0.0007145918833216074\n",
      "(60000, 785)\n",
      "0.0023357390940984407\n",
      "0.0007022417399228281\n",
      "(60000, 785)\n",
      "0.0023150437729201126\n",
      "0.0006902299497946561\n",
      "(60000, 785)\n",
      "0.0022950956951869397\n",
      "0.0006785449943105296\n",
      "(60000, 785)\n",
      "0.002275869426514629\n",
      "0.0006671759065882729\n",
      "(60000, 785)\n",
      "0.002257339613094031\n",
      "0.0006561122552943676\n",
      "(60000, 785)\n",
      "0.002239481155928695\n",
      "0.0006453441290735958\n",
      "(60000, 785)\n",
      "0.002222269349933824\n",
      "0.0006348621208719901\n",
      "(60000, 785)\n",
      "0.0022056799924616843\n",
      "0.0006246573115525587\n",
      "(60000, 785)\n",
      "0.0021896894660121055\n",
      "0.0006147212522683873\n",
      "(60000, 785)\n",
      "0.0021742747996935027\n",
      "0.0006050459450801125\n",
      "(60000, 785)\n",
      "0.0021594137135674124\n",
      "0.0005956238213113213\n",
      "(60000, 785)\n",
      "0.0021450846494522058\n",
      "0.000586447717154527\n",
      "(60000, 785)\n",
      "0.0021312667911624616\n",
      "0.0005775108460989528\n",
      "(60000, 785)\n",
      "0.0021179400765782425\n",
      "0.0005688067678721254\n",
      "(60000, 785)\n",
      "0.0021050852034090912\n",
      "0.000560329353784978\n",
      "(60000, 785)\n",
      "0.0020926836300618826\n",
      "0.0005520727486484453\n",
      "(60000, 785)\n",
      "0.002080717572646329\n",
      "0.000544031329778227\n",
      "(60000, 785)\n",
      "0.0020691699988555634\n",
      "0.0005361996639985093\n",
      "(60000, 785)\n",
      "0.0020580246192336143\n",
      "0.0005285724639561905\n",
      "(60000, 785)\n",
      "0.0020615469111930906\n",
      "0.0005211445454154916\n",
      "(60000, 785)\n",
      "0.0020659795484612165\n",
      "0.0005139107874652355\n",
      "(60000, 785)\n",
      "0.0020701649617318463\n",
      "0.0005068660976873896\n",
      "(60000, 785)\n",
      "0.002074115492020301\n",
      "0.0005000053842665628\n",
      "(60000, 785)\n",
      "0.0020778441689104366\n",
      "0.0004933235367455371\n",
      "(60000, 785)\n",
      "0.002081364586631773\n",
      "0.0004868154166541258\n",
      "(60000, 785)\n",
      "epoch = 100, MSE = 0.498, ACC = 0.000\n",
      "0.0020846907699838546\n",
      "0.0004804758585851824\n",
      "(60000, 785)\n",
      "0.002087837030646078\n",
      "0.00047429968151301515\n",
      "(60000, 785)\n",
      "0.0020908178149168233\n",
      "0.0004682817093148097\n",
      "(60000, 785)\n",
      "0.0020936475445048064\n",
      "0.0004624167986459767\n",
      "(60000, 785)\n",
      "0.0020963404526002094\n",
      "0.0004566998716211702\n",
      "(60000, 785)\n",
      "0.0020989104180075824\n",
      "0.0004511259502466525\n",
      "(60000, 785)\n",
      "0.0021013708005468423\n",
      "0.00044569018930901545\n",
      "(60000, 785)\n",
      "0.0021037342811989213\n",
      "0.00044038790450460016\n",
      "(60000, 785)\n",
      "0.002106012710539895\n",
      "0.00043521459302240924\n",
      "(60000, 785)\n",
      "0.0021082169688959596\n",
      "0.00043016594456643645\n",
      "(60000, 785)\n",
      "0.0021103568413582963\n"
     ]
    },
    {
     "ename": "KeyboardInterrupt",
     "evalue": "",
     "output_type": "error",
     "traceback": [
      "\u001b[0;31m---------------------------------------------------------------------------\u001b[0m",
      "\u001b[0;31mKeyboardInterrupt\u001b[0m                         Traceback (most recent call last)",
      "\u001b[0;32m<ipython-input-30-0e3d6d913b3b>\u001b[0m in \u001b[0;36m<module>\u001b[0;34m()\u001b[0m\n\u001b[1;32m     11\u001b[0m \u001b[0;34m\u001b[0m\u001b[0m\n\u001b[1;32m     12\u001b[0m \u001b[0mlogreg\u001b[0m \u001b[0;34m=\u001b[0m \u001b[0mLR\u001b[0m\u001b[0;34m(\u001b[0m\u001b[0mW\u001b[0m\u001b[0;34m)\u001b[0m\u001b[0;34m\u001b[0m\u001b[0m\n\u001b[0;32m---> 13\u001b[0;31m \u001b[0mlogreg\u001b[0m\u001b[0;34m.\u001b[0m\u001b[0mlearn\u001b[0m\u001b[0;34m(\u001b[0m\u001b[0mx_train_t\u001b[0m\u001b[0;34m,\u001b[0m \u001b[0my_train\u001b[0m\u001b[0;34m,\u001b[0m \u001b[0;36m2\u001b[0m\u001b[0;34m)\u001b[0m\u001b[0;34m\u001b[0m\u001b[0m\n\u001b[0m\u001b[1;32m     14\u001b[0m \u001b[0;31m#logreg.confusion_matrix( x_train_t, y_train)\u001b[0m\u001b[0;34m\u001b[0m\u001b[0;34m\u001b[0m\u001b[0m\n",
      "\u001b[0;32m<ipython-input-29-01705bb8e6cf>\u001b[0m in \u001b[0;36mlearn\u001b[0;34m(self, X, Y, learning_rate)\u001b[0m\n\u001b[1;32m     27\u001b[0m         \u001b[0mepoch\u001b[0m \u001b[0;34m=\u001b[0m \u001b[0;36m1\u001b[0m\u001b[0;34m\u001b[0m\u001b[0m\n\u001b[1;32m     28\u001b[0m         \u001b[0;32mwhile\u001b[0m \u001b[0;32mnot\u001b[0m \u001b[0mis_converged\u001b[0m\u001b[0;34m:\u001b[0m\u001b[0;34m\u001b[0m\u001b[0m\n\u001b[0;32m---> 29\u001b[0;31m             \u001b[0mU\u001b[0m \u001b[0;34m=\u001b[0m \u001b[0mself\u001b[0m\u001b[0;34m.\u001b[0m\u001b[0mfeedforward\u001b[0m\u001b[0;34m(\u001b[0m\u001b[0mX\u001b[0m\u001b[0;34m)\u001b[0m\u001b[0;34m\u001b[0m\u001b[0m\n\u001b[0m\u001b[1;32m     30\u001b[0m \u001b[0;34m\u001b[0m\u001b[0m\n\u001b[1;32m     31\u001b[0m             \u001b[0mE\u001b[0m \u001b[0;34m=\u001b[0m \u001b[0;34m(\u001b[0m\u001b[0mU\u001b[0m \u001b[0;34m-\u001b[0m \u001b[0mYv\u001b[0m\u001b[0;34m)\u001b[0m\u001b[0;34m\u001b[0m\u001b[0m\n",
      "\u001b[0;32m<ipython-input-29-01705bb8e6cf>\u001b[0m in \u001b[0;36mfeedforward\u001b[0;34m(self, X)\u001b[0m\n\u001b[1;32m     15\u001b[0m \u001b[0;34m\u001b[0m\u001b[0m\n\u001b[1;32m     16\u001b[0m     \u001b[0;32mdef\u001b[0m \u001b[0mfeedforward\u001b[0m\u001b[0;34m(\u001b[0m\u001b[0mself\u001b[0m\u001b[0;34m,\u001b[0m \u001b[0mX\u001b[0m\u001b[0;34m)\u001b[0m\u001b[0;34m:\u001b[0m\u001b[0;34m\u001b[0m\u001b[0m\n\u001b[0;32m---> 17\u001b[0;31m         \u001b[0mS\u001b[0m \u001b[0;34m=\u001b[0m \u001b[0mnp\u001b[0m\u001b[0;34m.\u001b[0m\u001b[0mdot\u001b[0m\u001b[0;34m(\u001b[0m\u001b[0mX\u001b[0m\u001b[0;34m,\u001b[0m \u001b[0mself\u001b[0m\u001b[0;34m.\u001b[0m\u001b[0mW\u001b[0m\u001b[0;34m)\u001b[0m\u001b[0;34m\u001b[0m\u001b[0m\n\u001b[0m\u001b[1;32m     18\u001b[0m         \u001b[0mU\u001b[0m \u001b[0;34m=\u001b[0m \u001b[0mself\u001b[0m\u001b[0;34m.\u001b[0m\u001b[0mactivation\u001b[0m\u001b[0;34m(\u001b[0m\u001b[0mS\u001b[0m\u001b[0;34m)\u001b[0m\u001b[0;34m\u001b[0m\u001b[0m\n\u001b[1;32m     19\u001b[0m         \u001b[0;32mreturn\u001b[0m \u001b[0;34m(\u001b[0m\u001b[0mU\u001b[0m\u001b[0;34m)\u001b[0m\u001b[0;34m\u001b[0m\u001b[0m\n",
      "\u001b[0;31mKeyboardInterrupt\u001b[0m: "
     ]
    }
   ],
   "source": [
    "N_train = x_train.shape[0]\n",
    "x_train_t = np.hstack((np.ones((N_train, 1)), x_train))\n",
    "x_train_t = x_train_t / np.max(x_train_t)\n",
    "N_test = x_test.shape[0]\n",
    "x_test_t = np.hstack((np.ones((N_test, 1)), x_test))\n",
    "x_test_t = x_test_t / np.max(x_train_t)\n",
    "C = len(np.unique(y_train))\n",
    "d = x_train_t.shape[1]\n",
    "\n",
    "W = np.random.randn(d, C) \n",
    "\n",
    "logreg = LR(W)\n",
    "logreg.learn(x_train_t, y_train, 2)\n",
    "#logreg.confusion_matrix( x_train_t, y_train)"
   ]
  },
  {
   "cell_type": "code",
   "execution_count": 11,
   "metadata": {},
   "outputs": [
    {
     "data": {
      "text/plain": [
       "(5,)"
      ]
     },
     "execution_count": 11,
     "metadata": {},
     "output_type": "execute_result"
    }
   ],
   "source": [
    "y_train[:][0:5].shape"
   ]
  },
  {
   "cell_type": "code",
   "execution_count": 12,
   "metadata": {},
   "outputs": [
    {
     "ename": "IndexError",
     "evalue": "index 5 is out of bounds for axis 1 with size 5",
     "output_type": "error",
     "traceback": [
      "\u001b[0;31m---------------------------------------------------------------------------\u001b[0m",
      "\u001b[0;31mIndexError\u001b[0m                                Traceback (most recent call last)",
      "\u001b[0;32m<ipython-input-12-53a2754f0653>\u001b[0m in \u001b[0;36m<module>\u001b[0;34m()\u001b[0m\n\u001b[1;32m      5\u001b[0m \u001b[0mYv\u001b[0m \u001b[0;34m=\u001b[0m \u001b[0mnp\u001b[0m\u001b[0;34m.\u001b[0m\u001b[0mzeros\u001b[0m\u001b[0;34m(\u001b[0m\u001b[0;34m(\u001b[0m\u001b[0mN\u001b[0m\u001b[0;34m,\u001b[0m \u001b[0mC\u001b[0m\u001b[0;34m)\u001b[0m\u001b[0;34m)\u001b[0m\u001b[0;34m\u001b[0m\u001b[0m\n\u001b[1;32m      6\u001b[0m Yv[np.arange(N), \n\u001b[0;32m----> 7\u001b[0;31m    Y.astype(np.int)] = 1.0\n\u001b[0m\u001b[1;32m      8\u001b[0m \u001b[0mYv\u001b[0m\u001b[0;34m.\u001b[0m\u001b[0mshape\u001b[0m\u001b[0;34m\u001b[0m\u001b[0m\n",
      "\u001b[0;31mIndexError\u001b[0m: index 5 is out of bounds for axis 1 with size 5"
     ]
    }
   ],
   "source": [
    "X = x_train[:][0:5]\n",
    "Y = y_train[:][0:5]\n",
    "C =  len(np.unique(Y))\n",
    "N = X.shape[0]\n",
    "Yv = np.zeros((N, C))\n",
    "Yv[np.arange(N), \n",
    "   Y.astype(np.int)] = 1.0\n",
    "Yv.shape"
   ]
  },
  {
   "cell_type": "markdown",
   "metadata": {},
   "source": [
    "### Test Accuracy of the Trained Logistic Regression"
   ]
  },
  {
   "cell_type": "code",
   "execution_count": null,
   "metadata": {},
   "outputs": [],
   "source": [
    "print('{0:.3f}'.format(logreg.accuracy(x_test_t, y_test)))"
   ]
  },
  {
   "cell_type": "code",
   "execution_count": null,
   "metadata": {},
   "outputs": [],
   "source": []
  }
 ],
 "metadata": {
  "kernelspec": {
   "display_name": "Python 3",
   "language": "python",
   "name": "python3"
  },
  "language_info": {
   "codemirror_mode": {
    "name": "ipython",
    "version": 3
   },
   "file_extension": ".py",
   "mimetype": "text/x-python",
   "name": "python",
   "nbconvert_exporter": "python",
   "pygments_lexer": "ipython3",
   "version": "3.7.3"
  }
 },
 "nbformat": 4,
 "nbformat_minor": 2
}
